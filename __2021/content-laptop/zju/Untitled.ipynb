{
 "cells": [
  {
   "cell_type": "code",
   "execution_count": null,
   "id": "c0569fa6-807d-4233-9b80-222fe8e4ec16",
   "metadata": {
    "tags": []
   },
   "outputs": [],
   "source": [
    "#include <"
   ]
  },
  {
   "cell_type": "code",
   "execution_count": null,
   "id": "7e854b90-7d01-47fa-8ab3-66daa95724c8",
   "metadata": {},
   "outputs": [],
   "source": []
  }
 ],
 "metadata": {
  "kernelspec": {
   "display_name": "C++1z",
   "language": "C++",
   "name": "cling-cpp1z"
  },
  "language_info": {
   "codemirror_mode": "c++",
   "file_extension": ".c++",
   "mimetype": "text/x-c++src",
   "name": "c++"
  }
 },
 "nbformat": 4,
 "nbformat_minor": 5
}
