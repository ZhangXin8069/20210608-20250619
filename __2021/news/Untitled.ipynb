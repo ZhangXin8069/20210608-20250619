{
 "cells": [
  {
   "cell_type": "code",
   "execution_count": 1,
   "id": "9a5ad49b-f52a-4d59-b6da-1823f806c09d",
   "metadata": {},
   "outputs": [
    {
     "name": "stdout",
     "output_type": "stream",
     "text": [
      "国际新闻\n",
      "(1)央视新闻客户端于2025-06-19报道：美国务院通知所有美在以外交人员留在避难所\n",
      "(2)央视新闻客户端于2025-06-19报道：“星舰”静态点火测试中发生爆炸\n",
      "(3)央视新闻客户端于2025-06-19报道：伊朗向以色列发动新一轮袭击 造成至少70人受伤\n",
      "(4)央视新闻客户端于2025-06-19报道：视频丨以军称昨夜今晨袭击伊朗数十个军事目标\n",
      "(5)央视新闻客户端于2025-06-19报道：伊朗首次动用&quot;泥石&quot;导弹 以军称精准打击伊核设施\n",
      "(6)央视新闻客户端于2025-06-19报道：美国驻卡塔尔大使馆限制人员进入美空军基地\n",
      "(7)央视新闻客户端于2025-06-19报道：通话录音引争议 泰国上议院要求罢免总理佩通坦\n",
      "(8)央视新闻客户端于2025-06-19报道：4天3架 印度又一航班因技术问题返航\n",
      "(9)央视新闻客户端于2025-06-19报道：印度空难已确认210名遇难者身份\n",
      "(10)央视新闻客户端于2025-06-19报道：印度航空宣布缩减宽体机国际航班数量\n",
      "(11)中国青年报于2025-06-19报道：美国将对所有留学生进行网络审查 新规引发广泛关注\n",
      "(12)环球时报于2025-06-19报道：敏感时刻 美“末日飞机”现异常动向 中东局势紧张引发关注\n",
      "(13)百家号于2025-06-19报道：广东怀集一超市疑遭哄抢 洪水致店铺受损严重\n",
      "(14)中国新闻网于2025-06-19报道：南航回应飞行员举报领导 情况与事实不符\n",
      "(15)财联社于2025-06-19报道：伊朗发布霍拉姆沙赫尔-4导弹画面 展现最强破坏力\n",
      "(16)新华网于2025-06-19报道：湖南澧水今年第1号洪水形成 湘西北强降雨持续\n",
      "(17)光明网于2025-06-19报道：警方通报一男子从51楼坠亡 排除刑事案件\n",
      "(18)大象新闻于2025-06-19报道：东方甄选已注册旗下多位主播商标 顿顿离职引关注\n",
      "(19)大河报于2025-06-19报道：小米集团总裁卢伟冰透露YU7价格 配置升级不便宜\n",
      "(20)土地情报于2025-06-19报道：男子200万建洋房被爸妈塞满粮食：新房秒变大仓库！\n",
      "兰大新闻\n",
      "(1)"
     ]
    },
    {
     "ename": "IndexError",
     "evalue": "list index out of range",
     "output_type": "error",
     "traceback": [
      "\u001b[0;31m---------------------------------------------------------------------------\u001b[0m",
      "\u001b[0;31mIndexError\u001b[0m                                Traceback (most recent call last)",
      "Cell \u001b[0;32mIn[1], line 30\u001b[0m\n\u001b[1;32m     28\u001b[0m         \u001b[38;5;28mprint\u001b[39m(li[i][\u001b[38;5;241m0\u001b[39m]\u001b[38;5;241m+\u001b[39m\u001b[38;5;124m'\u001b[39m\u001b[38;5;124m...http://jwc.lzu.edu.cn/lzupage\u001b[39m\u001b[38;5;124m'\u001b[39m\u001b[38;5;241m+\u001b[39mli[i][\u001b[38;5;241m1\u001b[39m])\n\u001b[1;32m     29\u001b[0m     \u001b[38;5;28minput\u001b[39m(\u001b[38;5;124m'\u001b[39m\u001b[38;5;124minput for leave\u001b[39m\u001b[38;5;124m'\u001b[39m)\n\u001b[0;32m---> 30\u001b[0m \u001b[43mnews\u001b[49m\u001b[43m(\u001b[49m\u001b[43m)\u001b[49m\n",
      "Cell \u001b[0;32mIn[1], line 28\u001b[0m, in \u001b[0;36mnews\u001b[0;34m()\u001b[0m\n\u001b[1;32m     26\u001b[0m \u001b[38;5;28;01mfor\u001b[39;00m i \u001b[38;5;129;01min\u001b[39;00m \u001b[38;5;28mrange\u001b[39m(\u001b[38;5;241m-\u001b[39m\u001b[38;5;241m10\u001b[39m, \u001b[38;5;241m0\u001b[39m):\n\u001b[1;32m     27\u001b[0m     \u001b[38;5;28mprint\u001b[39m(\u001b[38;5;124m'\u001b[39m\u001b[38;5;124m(\u001b[39m\u001b[38;5;132;01m{}\u001b[39;00m\u001b[38;5;124m)\u001b[39m\u001b[38;5;124m'\u001b[39m\u001b[38;5;241m.\u001b[39mformat(i \u001b[38;5;241m+\u001b[39m \u001b[38;5;241m11\u001b[39m), end\u001b[38;5;241m=\u001b[39m\u001b[38;5;124m'\u001b[39m\u001b[38;5;124m'\u001b[39m)\n\u001b[0;32m---> 28\u001b[0m     \u001b[38;5;28mprint\u001b[39m(\u001b[43mli\u001b[49m\u001b[43m[\u001b[49m\u001b[43mi\u001b[49m\u001b[43m]\u001b[49m[\u001b[38;5;241m0\u001b[39m]\u001b[38;5;241m+\u001b[39m\u001b[38;5;124m'\u001b[39m\u001b[38;5;124m...http://jwc.lzu.edu.cn/lzupage\u001b[39m\u001b[38;5;124m'\u001b[39m\u001b[38;5;241m+\u001b[39mli[i][\u001b[38;5;241m1\u001b[39m])\n\u001b[1;32m     29\u001b[0m \u001b[38;5;28minput\u001b[39m(\u001b[38;5;124m'\u001b[39m\u001b[38;5;124minput for leave\u001b[39m\u001b[38;5;124m'\u001b[39m)\n",
      "\u001b[0;31mIndexError\u001b[0m: list index out of range"
     ]
    }
   ],
   "source": [
    "def news():\n",
    "    import requests\n",
    "    import re\n",
    "    print('国际新闻')\n",
    "    url = 'https://news.china.com/international/'\n",
    "    r = requests.get(url)\n",
    "    r.encoding = 'utf-8'\n",
    "    html = r.text\n",
    "    alist = re.findall(\n",
    "        r'.html\" target=\"_blank\">.+</a></h3><span class=\"item_info\">',\n",
    "        html)\n",
    "    blist = re.findall(r'<em class=\"item_source\">.+</em>', html)\n",
    "    for i in range(20):\n",
    "        print('({})'.format(i + 1), end='')\n",
    "        print(blist[i][24:-42], end='于')\n",
    "        print(blist[i][-15:-5], end='报道：')\n",
    "        print(alist[i][23:-33])\n",
    "    print('兰大新闻')\n",
    "    url = 'http://jwc.lzu.edu.cn/'\n",
    "    r = requests.get(url)\n",
    "    r.encoding = 'GB2312'\n",
    "    html = r.text\n",
    "    li = re.findall(\n",
    "        r'<li><a title=\\'(.+?)\\'  href=\\\".*?/lzupage(.+?)\\\"',\n",
    "        html)\n",
    "    for i in range(-10, 0):\n",
    "        print('({})'.format(i + 11), end='')\n",
    "        print(li[i][0]+'...http://jwc.lzu.edu.cn/lzupage'+li[i][1])\n",
    "    input('input for leave')\n",
    "news()\n",
    "\n",
    "\n",
    "\n",
    "\n",
    "\n",
    "\n",
    "\n",
    "\n",
    "\n"
   ]
  },
  {
   "cell_type": "code",
   "execution_count": null,
   "id": "a510acc6-a9b8-47c7-a1b5-513c17bfe28f",
   "metadata": {},
   "outputs": [],
   "source": []
  }
 ],
 "metadata": {
  "kernelspec": {
   "display_name": "Python 3",
   "language": "python",
   "name": "python3"
  },
  "language_info": {
   "codemirror_mode": {
    "name": "ipython",
    "version": 3
   },
   "file_extension": ".py",
   "mimetype": "text/x-python",
   "name": "python",
   "nbconvert_exporter": "python",
   "pygments_lexer": "ipython3",
   "version": "3.10.12"
  },
  "widgets": {
   "application/vnd.jupyter.widget-state+json": {
    "state": {},
    "version_major": 2,
    "version_minor": 0
   }
  }
 },
 "nbformat": 4,
 "nbformat_minor": 5
}
