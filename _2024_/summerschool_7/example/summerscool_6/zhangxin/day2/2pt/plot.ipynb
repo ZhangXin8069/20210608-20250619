{
 "cells": [
  {
   "cell_type": "code",
   "execution_count": 31,
   "metadata": {},
   "outputs": [],
   "source": [
    "import numpy as np"
   ]
  },
  {
   "cell_type": "code",
   "execution_count": null,
   "metadata": {},
   "outputs": [],
   "source": []
  },
  {
   "cell_type": "code",
   "execution_count": 32,
   "metadata": {},
   "outputs": [],
   "source": [
    "avg = np.array(\n",
    "[363812.80805418+2.23425563e-15j, 287286.45530765-1.42136723e-16j,\n",
    " 244232.4692056 -2.22720757e-16j, 208152.70417627-2.42391187e-16j,\n",
    " 178561.60004581-1.00463098e-16j, 153619.3166977 -9.58516257e-16j,\n",
    " 131980.69596709-4.64603602e-17j, 113335.01374143-3.06852183e-16j,\n",
    "  96998.90173915-4.00092893e-16j,  82630.03089888-1.26248227e-16j,\n",
    "  70231.24092758-7.25012526e-17j,  59609.72648694-2.67223360e-16j,\n",
    "  50711.38400685-7.27541475e-17j,  43207.86274673+2.83893427e-16j,\n",
    "  36740.23729322+9.38054667e-17j,  31312.79929639+1.80476044e-16j,\n",
    "  26784.91961889+1.28845803e-16j,  22937.64754615+8.39045554e-17j,\n",
    "  19648.43389006+4.20091396e-17j,  16856.1113973 -2.42071269e-17j,\n",
    "  14489.53480717+3.31646177e-17j,  12495.94838707+3.52517364e-17j,\n",
    "  10811.49903984-4.00634460e-17j,   9390.90941055+2.03325177e-18j,\n",
    "   8140.20086542-5.80804846e-18j,   7030.95040303+3.28446179e-17j,\n",
    "   6070.95660026-3.23950878e-17j,   5238.8901325 +1.57057602e-17j,\n",
    "   4545.20056688-1.88715991e-17j,   3960.09781588-2.01518089e-17j,\n",
    "   3489.50587929-3.30948996e-18j,   3111.19524781+1.74678418e-17j,\n",
    "   2806.21298836+9.21054235e-18j,   2591.70004285+4.83346478e-18j,\n",
    "   2456.58642525+2.74997541e-18j,   2378.07985797+8.76454624e-18j,\n",
    "   2360.43326018-8.95720288e-18j,   2403.43512434+2.38674521e-18j,\n",
    "   2505.96183975-7.95122907e-18j,   2672.82737552-1.64245109e-17j,\n",
    "   2913.412805  +6.15551224e-18j,   3224.48130625-8.15448028e-18j,\n",
    "   3595.13181151-4.22219763e-19j,   4045.92511212+1.04340295e-17j,\n",
    "   4565.4473157 +7.14110577e-18j,   5149.01011597-1.92759089e-17j,\n",
    "   5830.44683521-2.31094702e-17j,   6675.02028336-3.13071269e-17j,\n",
    "   7711.56181535-3.58023397e-17j,   8963.88407313+1.52251720e-18j,\n",
    "  10450.21076271-1.65059129e-17j,  12258.05969162-3.13909482e-18j,\n",
    "  14389.00157774-2.35109571e-17j,  16851.52218762+7.32383451e-17j,\n",
    "  19719.37866948+3.69306793e-17j,  23061.90870079-1.37676764e-17j,\n",
    "  27036.3832162 -1.34346519e-16j,  31737.10037499-9.92384546e-17j,\n",
    "  37305.95591428-1.43877812e-16j,  43834.45059581+2.10649446e-16j,\n",
    "  51148.46949152+4.34225386e-17j,  59537.31492918-1.38392620e-17j,\n",
    "])"
   ]
  },
  {
   "cell_type": "code",
   "execution_count": 33,
   "metadata": {},
   "outputs": [
    {
     "data": {
      "text/plain": [
       "array([363812.80805418+2.23425563e-15j, 287286.45530765-1.42136723e-16j,\n",
       "       244232.4692056 -2.22720757e-16j, 208152.70417627-2.42391187e-16j,\n",
       "       178561.60004581-1.00463098e-16j, 153619.3166977 -9.58516257e-16j,\n",
       "       131980.69596709-4.64603602e-17j, 113335.01374143-3.06852183e-16j,\n",
       "        96998.90173915-4.00092893e-16j,  82630.03089888-1.26248227e-16j,\n",
       "        70231.24092758-7.25012526e-17j,  59609.72648694-2.67223360e-16j,\n",
       "        50711.38400685-7.27541475e-17j,  43207.86274673+2.83893427e-16j,\n",
       "        36740.23729322+9.38054667e-17j,  31312.79929639+1.80476044e-16j,\n",
       "        26784.91961889+1.28845803e-16j,  22937.64754615+8.39045554e-17j,\n",
       "        19648.43389006+4.20091396e-17j,  16856.1113973 -2.42071269e-17j,\n",
       "        14489.53480717+3.31646177e-17j,  12495.94838707+3.52517364e-17j,\n",
       "        10811.49903984-4.00634460e-17j,   9390.90941055+2.03325177e-18j,\n",
       "         8140.20086542-5.80804846e-18j,   7030.95040303+3.28446179e-17j,\n",
       "         6070.95660026-3.23950878e-17j,   5238.8901325 +1.57057602e-17j,\n",
       "         4545.20056688-1.88715991e-17j,   3960.09781588-2.01518089e-17j,\n",
       "         3489.50587929-3.30948996e-18j,   3111.19524781+1.74678418e-17j,\n",
       "         2806.21298836+9.21054235e-18j,   2591.70004285+4.83346478e-18j,\n",
       "         2456.58642525+2.74997541e-18j,   2378.07985797+8.76454624e-18j,\n",
       "         2360.43326018-8.95720288e-18j,   2403.43512434+2.38674521e-18j,\n",
       "         2505.96183975-7.95122907e-18j,   2672.82737552-1.64245109e-17j,\n",
       "         2913.412805  +6.15551224e-18j,   3224.48130625-8.15448028e-18j,\n",
       "         3595.13181151-4.22219763e-19j,   4045.92511212+1.04340295e-17j,\n",
       "         4565.4473157 +7.14110577e-18j,   5149.01011597-1.92759089e-17j,\n",
       "         5830.44683521-2.31094702e-17j,   6675.02028336-3.13071269e-17j,\n",
       "         7711.56181535-3.58023397e-17j,   8963.88407313+1.52251720e-18j,\n",
       "        10450.21076271-1.65059129e-17j,  12258.05969162-3.13909482e-18j,\n",
       "        14389.00157774-2.35109571e-17j,  16851.52218762+7.32383451e-17j,\n",
       "        19719.37866948+3.69306793e-17j,  23061.90870079-1.37676764e-17j,\n",
       "        27036.3832162 -1.34346519e-16j,  31737.10037499-9.92384546e-17j,\n",
       "        37305.95591428-1.43877812e-16j,  43834.45059581+2.10649446e-16j,\n",
       "        51148.46949152+4.34225386e-17j,  59537.31492918-1.38392620e-17j])"
      ]
     },
     "execution_count": 33,
     "metadata": {},
     "output_type": "execute_result"
    }
   ],
   "source": [
    "avg"
   ]
  },
  {
   "cell_type": "code",
   "execution_count": 34,
   "metadata": {},
   "outputs": [],
   "source": [
    "stderr = np.array([\n",
    "    5284.49645124+8.93135374e-17j, 5051.67919128+3.11493404e-17j,\n",
    "    4807.22801984-9.96745526e-17j, 4489.17360148-6.06406902e-17j,\n",
    "    4377.97247117+1.21565650e-17j, 4380.6955674 - 1.10421319e-16j,\n",
    "    4346.32455056-7.86276657e-18j, 4260.60240681-1.39833078e-16j,\n",
    "    3954.38421452-1.38915324e-16j, 3511.67798014-2.63737534e-17j,\n",
    "    2965.85763576-1.38912157e-16j, 2391.66434172-8.99717287e-17j,\n",
    "    1974.20588689-4.48188688e-17j, 1678.99538258+9.43185149e-17j,\n",
    "    1427.70254067+7.24178200e-17j, 1229.20302781+2.93408782e-17j,\n",
    "    1061.10708499+4.26686856e-18j,  924.71166 - 3.01381787e-18j,\n",
    "    813.88122708+3.18467380e-17j,  699.97216522+1.03711787e-17j,\n",
    "    606.11518144+1.28684281e-17j,  547.62904331+2.66670686e-18j,\n",
    "    490.72093772-1.41156404e-17j,  449.0226981 - 4.43612523e-18j,\n",
    "    408.7760965 + 5.36131521e-18j,  361.60717439+1.39980958e-17j,\n",
    "    318.75627783-8.03729844e-18j,  281.38038705+7.15719667e-18j,\n",
    "    246.40055377-2.45184362e-18j,  200.93011499-4.78853500e-18j,\n",
    "    167.14109494-2.21807769e-18j,  139.43450603+1.11062578e-18j,\n",
    "    115.81855454+5.76382540e-20j,   98.97281988+5.51014574e-19j,\n",
    "    90.56639167+1.86114211e-19j,   86.85177155+1.50281485e-18j,\n",
    "    86.4502209 - 1.16068262e-19j,   88.08961863+2.04023319e-19j,\n",
    "    94.75828057-1.46722749e-19j,  105.62661497-1.54799229e-18j,\n",
    "    120.63368535-1.07594427e-18j,  138.74616426-4.01530307e-18j,\n",
    "    156.47251289-4.74983016e-18j,  177.08881048+3.28946297e-19j,\n",
    "    199.07696021-7.46622168e-19j,  219.89251353-2.51238650e-19j,\n",
    "    234.27082931-2.60954597e-18j,  253.6752328 - 2.09948455e-18j,\n",
    "    283.70259817-4.07887063e-18j,  327.66477826-6.30603716e-18j,\n",
    "    384.29585248-7.19092161e-18j,  455.50708184+4.09233398e-18j,\n",
    "    542.52688762+3.72569254e-18j,  644.22431819-9.21774578e-18j,\n",
    "    742.24591929-1.90710814e-17j,  852.43385935-9.02945193e-18j,\n",
    "    991.36217009-1.90842545e-17j, 1145.20355429-2.40208933e-17j,\n",
    "    1321.94151312-3.33673130e-17j, 1525.25404086+4.94461784e-18j,\n",
    "    1693.47838039+3.71450074e-17j, 1865.29953605-1.83445522e-17j,\n",
    "    2004.14837992-2.76086782e-17j, 2121.8988725 + 4.08822535e-17j,\n",
    "    2244.42687723+1.37474257e-17j, 2425.57571024+1.10194081e-17j,\n",
    "])"
   ]
  },
  {
   "cell_type": "code",
   "execution_count": 35,
   "metadata": {},
   "outputs": [
    {
     "data": {
      "text/plain": [
       "array([5284.49645124+8.93135374e-17j, 5051.67919128+3.11493404e-17j,\n",
       "       4807.22801984-9.96745526e-17j, 4489.17360148-6.06406902e-17j,\n",
       "       4377.97247117+1.21565650e-17j, 4380.6955674 -1.10421319e-16j,\n",
       "       4346.32455056-7.86276657e-18j, 4260.60240681-1.39833078e-16j,\n",
       "       3954.38421452-1.38915324e-16j, 3511.67798014-2.63737534e-17j,\n",
       "       2965.85763576-1.38912157e-16j, 2391.66434172-8.99717287e-17j,\n",
       "       1974.20588689-4.48188688e-17j, 1678.99538258+9.43185149e-17j,\n",
       "       1427.70254067+7.24178200e-17j, 1229.20302781+2.93408782e-17j,\n",
       "       1061.10708499+4.26686856e-18j,  924.71166   -3.01381787e-18j,\n",
       "        813.88122708+3.18467380e-17j,  699.97216522+1.03711787e-17j,\n",
       "        606.11518144+1.28684281e-17j,  547.62904331+2.66670686e-18j,\n",
       "        490.72093772-1.41156404e-17j,  449.0226981 -4.43612523e-18j,\n",
       "        408.7760965 +5.36131521e-18j,  361.60717439+1.39980958e-17j,\n",
       "        318.75627783-8.03729844e-18j,  281.38038705+7.15719667e-18j,\n",
       "        246.40055377-2.45184362e-18j,  200.93011499-4.78853500e-18j,\n",
       "        167.14109494-2.21807769e-18j,  139.43450603+1.11062578e-18j,\n",
       "        115.81855454+5.76382540e-20j,   98.97281988+5.51014574e-19j,\n",
       "         90.56639167+1.86114211e-19j,   86.85177155+1.50281485e-18j,\n",
       "         86.4502209 -1.16068262e-19j,   88.08961863+2.04023319e-19j,\n",
       "         94.75828057-1.46722749e-19j,  105.62661497-1.54799229e-18j,\n",
       "        120.63368535-1.07594427e-18j,  138.74616426-4.01530307e-18j,\n",
       "        156.47251289-4.74983016e-18j,  177.08881048+3.28946297e-19j,\n",
       "        199.07696021-7.46622168e-19j,  219.89251353-2.51238650e-19j,\n",
       "        234.27082931-2.60954597e-18j,  253.6752328 -2.09948455e-18j,\n",
       "        283.70259817-4.07887063e-18j,  327.66477826-6.30603716e-18j,\n",
       "        384.29585248-7.19092161e-18j,  455.50708184+4.09233398e-18j,\n",
       "        542.52688762+3.72569254e-18j,  644.22431819-9.21774578e-18j,\n",
       "        742.24591929-1.90710814e-17j,  852.43385935-9.02945193e-18j,\n",
       "        991.36217009-1.90842545e-17j, 1145.20355429-2.40208933e-17j,\n",
       "       1321.94151312-3.33673130e-17j, 1525.25404086+4.94461784e-18j,\n",
       "       1693.47838039+3.71450074e-17j, 1865.29953605-1.83445522e-17j,\n",
       "       2004.14837992-2.76086782e-17j, 2121.8988725 +4.08822535e-17j,\n",
       "       2244.42687723+1.37474257e-17j, 2425.57571024+1.10194081e-17j])"
      ]
     },
     "execution_count": 35,
     "metadata": {},
     "output_type": "execute_result"
    }
   ],
   "source": [
    "stderr"
   ]
  },
  {
   "cell_type": "code",
   "execution_count": 36,
   "metadata": {},
   "outputs": [],
   "source": [
    "def modelFuncExp(t: np.ndarray, p: dict) -> np.ndarray:\n",
    "    \"\"\"\n",
    "    Define the model function for fitting.\n",
    "\n",
    "    Args:\n",
    "    - t: Time array of shape (m,) for fitting.\n",
    "    - p: Parameters dictionary with keys 'C0' and 'E0'.\n",
    "\n",
    "    Returns:\n",
    "    - Model function evaluated at t with given parameters.\n",
    "    \"\"\"\n",
    "    return p['C0'] * np.exp(p['E0'] * t)"
   ]
  },
  {
   "cell_type": "code",
   "execution_count": 37,
   "metadata": {},
   "outputs": [],
   "source": [
    "# params, errors, chi2, logGBF = nonlinearFit(x=np.array(range(start, end)),\n",
    "#                                             y=mean_jackkniff_c2pt_list[start:end],\n",
    "#                                             yerr=jackkniff_c2pt_list_covar[start:end,\n",
    "#                                                                            start:end],\n",
    "#                                             modelfunc=modelFuncLog)"
   ]
  },
  {
   "cell_type": "code",
   "execution_count": 38,
   "metadata": {},
   "outputs": [
    {
     "name": "stdout",
     "output_type": "stream",
     "text": [
      "66\n",
      "62\n"
     ]
    }
   ],
   "source": [
    "import matplotlib.pyplot as plt\n",
    "import seaborn as sns\n",
    "sns.set()  # Set style for matplotlib\n",
    "x = np.arange(36)\n",
    "y = avg\n",
    "yerr = stderr\n",
    "print(len(yerr))\n",
    "print(len(y))"
   ]
  },
  {
   "cell_type": "code",
   "execution_count": 39,
   "metadata": {},
   "outputs": [
    {
     "ename": "ValueError",
     "evalue": "'x' and 'y' must have the same size",
     "output_type": "error",
     "traceback": [
      "\u001b[0;31m---------------------------------------------------------------------------\u001b[0m",
      "\u001b[0;31mValueError\u001b[0m                                Traceback (most recent call last)",
      "Cell \u001b[0;32mIn[39], line 1\u001b[0m\n\u001b[0;32m----> 1\u001b[0m \u001b[43mplt\u001b[49m\u001b[38;5;241;43m.\u001b[39;49m\u001b[43merrorbar\u001b[49m\u001b[43m(\u001b[49m\u001b[43mx\u001b[49m\u001b[38;5;241;43m=\u001b[39;49m\u001b[43mx\u001b[49m\u001b[43m,\u001b[49m\u001b[43m \u001b[49m\u001b[43my\u001b[49m\u001b[38;5;241;43m=\u001b[39;49m\u001b[43my\u001b[49m\u001b[43m,\u001b[49m\u001b[43m \u001b[49m\u001b[43myerr\u001b[49m\u001b[38;5;241;43m=\u001b[39;49m\u001b[43myerr\u001b[49m\u001b[43m,\u001b[49m\u001b[43m \u001b[49m\u001b[43mlabel\u001b[49m\u001b[38;5;241;43m=\u001b[39;49m\u001b[38;5;124;43m'\u001b[39;49m\u001b[38;5;124;43m$C_2$\u001b[39;49m\u001b[38;5;124;43m'\u001b[39;49m\u001b[43m)\u001b[49m\n\u001b[1;32m      2\u001b[0m plt\u001b[38;5;241m.\u001b[39mfill_between(x\u001b[38;5;241m=\u001b[39mx, y1\u001b[38;5;241m=\u001b[39my\u001b[38;5;241m-\u001b[39myerr, y2\u001b[38;5;241m=\u001b[39my\u001b[38;5;241m+\u001b[39myerr, alpha\u001b[38;5;241m=\u001b[39m\u001b[38;5;241m0.3\u001b[39m)\n\u001b[1;32m      3\u001b[0m \u001b[38;5;66;03m# plt.plot(x, modelFuncExp(x, dict(C0=params[0], E0=params[1])), label='$best fit$')\u001b[39;00m\n",
      "File \u001b[0;32m~/.local/lib/python3.10/site-packages/matplotlib/pyplot.py:3027\u001b[0m, in \u001b[0;36merrorbar\u001b[0;34m(x, y, yerr, xerr, fmt, ecolor, elinewidth, capsize, barsabove, lolims, uplims, xlolims, xuplims, errorevery, capthick, data, **kwargs)\u001b[0m\n\u001b[1;32m   3006\u001b[0m \u001b[38;5;129m@_copy_docstring_and_deprecators\u001b[39m(Axes\u001b[38;5;241m.\u001b[39merrorbar)\n\u001b[1;32m   3007\u001b[0m \u001b[38;5;28;01mdef\u001b[39;00m \u001b[38;5;21merrorbar\u001b[39m(\n\u001b[1;32m   3008\u001b[0m     x: \u001b[38;5;28mfloat\u001b[39m \u001b[38;5;241m|\u001b[39m ArrayLike,\n\u001b[0;32m   (...)\u001b[0m\n\u001b[1;32m   3025\u001b[0m     \u001b[38;5;241m*\u001b[39m\u001b[38;5;241m*\u001b[39mkwargs,\n\u001b[1;32m   3026\u001b[0m ) \u001b[38;5;241m-\u001b[39m\u001b[38;5;241m>\u001b[39m ErrorbarContainer:\n\u001b[0;32m-> 3027\u001b[0m     \u001b[38;5;28;01mreturn\u001b[39;00m \u001b[43mgca\u001b[49m\u001b[43m(\u001b[49m\u001b[43m)\u001b[49m\u001b[38;5;241;43m.\u001b[39;49m\u001b[43merrorbar\u001b[49m\u001b[43m(\u001b[49m\n\u001b[1;32m   3028\u001b[0m \u001b[43m        \u001b[49m\u001b[43mx\u001b[49m\u001b[43m,\u001b[49m\n\u001b[1;32m   3029\u001b[0m \u001b[43m        \u001b[49m\u001b[43my\u001b[49m\u001b[43m,\u001b[49m\n\u001b[1;32m   3030\u001b[0m \u001b[43m        \u001b[49m\u001b[43myerr\u001b[49m\u001b[38;5;241;43m=\u001b[39;49m\u001b[43myerr\u001b[49m\u001b[43m,\u001b[49m\n\u001b[1;32m   3031\u001b[0m \u001b[43m        \u001b[49m\u001b[43mxerr\u001b[49m\u001b[38;5;241;43m=\u001b[39;49m\u001b[43mxerr\u001b[49m\u001b[43m,\u001b[49m\n\u001b[1;32m   3032\u001b[0m \u001b[43m        \u001b[49m\u001b[43mfmt\u001b[49m\u001b[38;5;241;43m=\u001b[39;49m\u001b[43mfmt\u001b[49m\u001b[43m,\u001b[49m\n\u001b[1;32m   3033\u001b[0m \u001b[43m        \u001b[49m\u001b[43mecolor\u001b[49m\u001b[38;5;241;43m=\u001b[39;49m\u001b[43mecolor\u001b[49m\u001b[43m,\u001b[49m\n\u001b[1;32m   3034\u001b[0m \u001b[43m        \u001b[49m\u001b[43melinewidth\u001b[49m\u001b[38;5;241;43m=\u001b[39;49m\u001b[43melinewidth\u001b[49m\u001b[43m,\u001b[49m\n\u001b[1;32m   3035\u001b[0m \u001b[43m        \u001b[49m\u001b[43mcapsize\u001b[49m\u001b[38;5;241;43m=\u001b[39;49m\u001b[43mcapsize\u001b[49m\u001b[43m,\u001b[49m\n\u001b[1;32m   3036\u001b[0m \u001b[43m        \u001b[49m\u001b[43mbarsabove\u001b[49m\u001b[38;5;241;43m=\u001b[39;49m\u001b[43mbarsabove\u001b[49m\u001b[43m,\u001b[49m\n\u001b[1;32m   3037\u001b[0m \u001b[43m        \u001b[49m\u001b[43mlolims\u001b[49m\u001b[38;5;241;43m=\u001b[39;49m\u001b[43mlolims\u001b[49m\u001b[43m,\u001b[49m\n\u001b[1;32m   3038\u001b[0m \u001b[43m        \u001b[49m\u001b[43muplims\u001b[49m\u001b[38;5;241;43m=\u001b[39;49m\u001b[43muplims\u001b[49m\u001b[43m,\u001b[49m\n\u001b[1;32m   3039\u001b[0m \u001b[43m        \u001b[49m\u001b[43mxlolims\u001b[49m\u001b[38;5;241;43m=\u001b[39;49m\u001b[43mxlolims\u001b[49m\u001b[43m,\u001b[49m\n\u001b[1;32m   3040\u001b[0m \u001b[43m        \u001b[49m\u001b[43mxuplims\u001b[49m\u001b[38;5;241;43m=\u001b[39;49m\u001b[43mxuplims\u001b[49m\u001b[43m,\u001b[49m\n\u001b[1;32m   3041\u001b[0m \u001b[43m        \u001b[49m\u001b[43merrorevery\u001b[49m\u001b[38;5;241;43m=\u001b[39;49m\u001b[43merrorevery\u001b[49m\u001b[43m,\u001b[49m\n\u001b[1;32m   3042\u001b[0m \u001b[43m        \u001b[49m\u001b[43mcapthick\u001b[49m\u001b[38;5;241;43m=\u001b[39;49m\u001b[43mcapthick\u001b[49m\u001b[43m,\u001b[49m\n\u001b[1;32m   3043\u001b[0m \u001b[43m        \u001b[49m\u001b[38;5;241;43m*\u001b[39;49m\u001b[38;5;241;43m*\u001b[39;49m\u001b[43m(\u001b[49m\u001b[43m{\u001b[49m\u001b[38;5;124;43m\"\u001b[39;49m\u001b[38;5;124;43mdata\u001b[39;49m\u001b[38;5;124;43m\"\u001b[39;49m\u001b[43m:\u001b[49m\u001b[43m \u001b[49m\u001b[43mdata\u001b[49m\u001b[43m}\u001b[49m\u001b[43m \u001b[49m\u001b[38;5;28;43;01mif\u001b[39;49;00m\u001b[43m \u001b[49m\u001b[43mdata\u001b[49m\u001b[43m \u001b[49m\u001b[38;5;129;43;01mis\u001b[39;49;00m\u001b[43m \u001b[49m\u001b[38;5;129;43;01mnot\u001b[39;49;00m\u001b[43m \u001b[49m\u001b[38;5;28;43;01mNone\u001b[39;49;00m\u001b[43m \u001b[49m\u001b[38;5;28;43;01melse\u001b[39;49;00m\u001b[43m \u001b[49m\u001b[43m{\u001b[49m\u001b[43m}\u001b[49m\u001b[43m)\u001b[49m\u001b[43m,\u001b[49m\n\u001b[1;32m   3044\u001b[0m \u001b[43m        \u001b[49m\u001b[38;5;241;43m*\u001b[39;49m\u001b[38;5;241;43m*\u001b[39;49m\u001b[43mkwargs\u001b[49m\u001b[43m,\u001b[49m\n\u001b[1;32m   3045\u001b[0m \u001b[43m    \u001b[49m\u001b[43m)\u001b[49m\n",
      "File \u001b[0;32m~/.local/lib/python3.10/site-packages/matplotlib/__init__.py:1465\u001b[0m, in \u001b[0;36m_preprocess_data.<locals>.inner\u001b[0;34m(ax, data, *args, **kwargs)\u001b[0m\n\u001b[1;32m   1462\u001b[0m \u001b[38;5;129m@functools\u001b[39m\u001b[38;5;241m.\u001b[39mwraps(func)\n\u001b[1;32m   1463\u001b[0m \u001b[38;5;28;01mdef\u001b[39;00m \u001b[38;5;21minner\u001b[39m(ax, \u001b[38;5;241m*\u001b[39margs, data\u001b[38;5;241m=\u001b[39m\u001b[38;5;28;01mNone\u001b[39;00m, \u001b[38;5;241m*\u001b[39m\u001b[38;5;241m*\u001b[39mkwargs):\n\u001b[1;32m   1464\u001b[0m     \u001b[38;5;28;01mif\u001b[39;00m data \u001b[38;5;129;01mis\u001b[39;00m \u001b[38;5;28;01mNone\u001b[39;00m:\n\u001b[0;32m-> 1465\u001b[0m         \u001b[38;5;28;01mreturn\u001b[39;00m \u001b[43mfunc\u001b[49m\u001b[43m(\u001b[49m\u001b[43max\u001b[49m\u001b[43m,\u001b[49m\u001b[43m \u001b[49m\u001b[38;5;241;43m*\u001b[39;49m\u001b[38;5;28;43mmap\u001b[39;49m\u001b[43m(\u001b[49m\u001b[43msanitize_sequence\u001b[49m\u001b[43m,\u001b[49m\u001b[43m \u001b[49m\u001b[43margs\u001b[49m\u001b[43m)\u001b[49m\u001b[43m,\u001b[49m\u001b[43m \u001b[49m\u001b[38;5;241;43m*\u001b[39;49m\u001b[38;5;241;43m*\u001b[39;49m\u001b[43mkwargs\u001b[49m\u001b[43m)\u001b[49m\n\u001b[1;32m   1467\u001b[0m     bound \u001b[38;5;241m=\u001b[39m new_sig\u001b[38;5;241m.\u001b[39mbind(ax, \u001b[38;5;241m*\u001b[39margs, \u001b[38;5;241m*\u001b[39m\u001b[38;5;241m*\u001b[39mkwargs)\n\u001b[1;32m   1468\u001b[0m     auto_label \u001b[38;5;241m=\u001b[39m (bound\u001b[38;5;241m.\u001b[39marguments\u001b[38;5;241m.\u001b[39mget(label_namer)\n\u001b[1;32m   1469\u001b[0m                   \u001b[38;5;129;01mor\u001b[39;00m bound\u001b[38;5;241m.\u001b[39mkwargs\u001b[38;5;241m.\u001b[39mget(label_namer))\n",
      "File \u001b[0;32m~/.local/lib/python3.10/site-packages/matplotlib/axes/_axes.py:3569\u001b[0m, in \u001b[0;36mAxes.errorbar\u001b[0;34m(self, x, y, yerr, xerr, fmt, ecolor, elinewidth, capsize, barsabove, lolims, uplims, xlolims, xuplims, errorevery, capthick, **kwargs)\u001b[0m\n\u001b[1;32m   3567\u001b[0m x, y \u001b[38;5;241m=\u001b[39m np\u001b[38;5;241m.\u001b[39matleast_1d(x, y)  \u001b[38;5;66;03m# Make sure all the args are iterable.\u001b[39;00m\n\u001b[1;32m   3568\u001b[0m \u001b[38;5;28;01mif\u001b[39;00m \u001b[38;5;28mlen\u001b[39m(x) \u001b[38;5;241m!=\u001b[39m \u001b[38;5;28mlen\u001b[39m(y):\n\u001b[0;32m-> 3569\u001b[0m     \u001b[38;5;28;01mraise\u001b[39;00m \u001b[38;5;167;01mValueError\u001b[39;00m(\u001b[38;5;124m\"\u001b[39m\u001b[38;5;124m'\u001b[39m\u001b[38;5;124mx\u001b[39m\u001b[38;5;124m'\u001b[39m\u001b[38;5;124m and \u001b[39m\u001b[38;5;124m'\u001b[39m\u001b[38;5;124my\u001b[39m\u001b[38;5;124m'\u001b[39m\u001b[38;5;124m must have the same size\u001b[39m\u001b[38;5;124m\"\u001b[39m)\n\u001b[1;32m   3571\u001b[0m everymask \u001b[38;5;241m=\u001b[39m \u001b[38;5;28mself\u001b[39m\u001b[38;5;241m.\u001b[39m_errorevery_to_mask(x, errorevery)\n\u001b[1;32m   3573\u001b[0m label \u001b[38;5;241m=\u001b[39m kwargs\u001b[38;5;241m.\u001b[39mpop(\u001b[38;5;124m\"\u001b[39m\u001b[38;5;124mlabel\u001b[39m\u001b[38;5;124m\"\u001b[39m, \u001b[38;5;28;01mNone\u001b[39;00m)\n",
      "\u001b[0;31mValueError\u001b[0m: 'x' and 'y' must have the same size"
     ]
    },
    {
     "data": {
      "image/png": "[encoded data removed]",
      "text/plain": [
       "<Figure size 640x480 with 1 Axes>"
      ]
     },
     "metadata": {},
     "output_type": "display_data"
    }
   ],
   "source": [
    "\n",
    "plt.errorbar(x=x, y=y, yerr=yerr, label='$C_2$')\n",
    "plt.fill_between(x=x, y1=y-yerr, y2=y+yerr, alpha=0.3)\n",
    "# plt.plot(x, modelFuncExp(x, dict(C0=params[0], E0=params[1])), label='$best fit$')\n",
    "plt.xlabel('t/a')\n",
    "plt.ylabel('$C_2$')\n",
    "plt.yscale(\"log\")\n",
    "plt.legend()\n",
    "plt.savefig(\"./zfit.png\")\n",
    "# plt.show()"
   ]
  },
  {
   "cell_type": "code",
   "execution_count": null,
   "metadata": {},
   "outputs": [],
   "source": []
  }
 ],
 "metadata": {
  "kernelspec": {
   "display_name": "Python 3",
   "language": "python",
   "name": "python3"
  },
  "language_info": {
   "codemirror_mode": {
    "name": "ipython",
    "version": 3
   },
   "file_extension": ".py",
   "mimetype": "text/x-python",
   "name": "python",
   "nbconvert_exporter": "python",
   "pygments_lexer": "ipython3",
   "version": "3.10.12"
  }
 },
 "nbformat": 4,
 "nbformat_minor": 2
}
