{
 "cells": [
  {
   "cell_type": "markdown",
   "metadata": {},
   "source": [
    "# 求解不含有不等式约束的线性方程组。\n"
   ]
  },
  {
   "cell_type": "code",
   "execution_count": 8,
   "metadata": {},
   "outputs": [
    {
     "name": "stdout",
     "output_type": "stream",
     "text": [
      "dict_keys(['__header__', '__version__', '__globals__', 'None', '__function_workspace__'])\n"
     ]
    }
   ],
   "source": [
    "import scipy.io\n",
    "import numpy as np\n",
    "import scipy.linalg\n",
    "# 读取 .mat 文件\n",
    "mat = scipy.io.loadmat('EQ.mat')\n",
    "\n",
    "# 查看 .mat 文件中的变量\n",
    "print(mat.keys())"
   ]
  },
  {
   "cell_type": "code",
   "execution_count": 9,
   "metadata": {},
   "outputs": [
    {
     "name": "stdout",
     "output_type": "stream",
     "text": [
      "__header__b'MATLAB 5.0 MAT-file, Platform: PCWIN64, Created on: Fri Aug  2 11:10:48 2024'\n",
      "__version__1.0\n",
      "__globals__[]\n",
      "None[(b'eqns', b'MCOS', b'sym', array([[3707764736],\n",
      "        [         2],\n",
      "        [         1],\n",
      "        [         1],\n",
      "        [         1],\n",
      "        [         1]], dtype=uint32))           ]\n",
      "__function_workspace__[[ 0  1 73 ...  0  0  0]]\n"
     ]
    }
   ],
   "source": [
    "\n",
    "for i in mat.keys():\n",
    "    print(str(i)+str(mat[i]))\n",
    "\n",
    "# # 提取系数矩阵 A 和常数向量 b\n",
    "# A = mat[A_key]\n",
    "# b = mat[b_key]"
   ]
  },
  {
   "cell_type": "code",
   "execution_count": 10,
   "metadata": {},
   "outputs": [
    {
     "name": "stdout",
     "output_type": "stream",
     "text": [
      "[[-1  0  1]\n",
      " [ 2  3  4]\n",
      " [ 5  6  7]]\n",
      "[[-1  0  1]]\n"
     ]
    }
   ],
   "source": [
    "# example\n",
    "N = 3\n",
    "A = np.array([range(N**2)]).reshape(N, N)\n",
    "A = A - 1\n",
    "b = np.array([range(N)])\n",
    "b = b - 1\n",
    "print(A)\n",
    "print(b)"
   ]
  },
  {
   "cell_type": "code",
   "execution_count": 11,
   "metadata": {},
   "outputs": [],
   "source": [
    "def solve_linear_system(A, b):\n",
    "    b = b.flatten()\n",
    "    # 判断 A 是否是方阵\n",
    "    if A.shape[0] == A.shape[1]:\n",
    "        try:\n",
    "            # 尝试求解线性方程组 Ax = b\n",
    "            x = scipy.linalg.solve(A, b)\n",
    "            print(\"方程组有唯一解：\", x)\n",
    "        except np.linalg.LinAlgError as e:\n",
    "            # 如果方程组无解或有无穷多解，抛出异常\n",
    "            print(\"方程组无解或有无穷多解。错误信息：\", e)\n",
    "    else:\n",
    "        # 使用最小二乘法求解方程组 Ax = b\n",
    "        x, residuals, rank, s = scipy.linalg.lstsq(A, b)\n",
    "        print(\"方程组的最小二乘解：\", x)\n",
    "        if residuals.size > 0 and np.all(residuals < 1e-10):\n",
    "            print(\"最小二乘解是唯一的。\")\n",
    "        else:\n",
    "            print(\"最小二乘解不是唯一的。\")"
   ]
  },
  {
   "cell_type": "code",
   "execution_count": 12,
   "metadata": {},
   "outputs": [
    {
     "name": "stdout",
     "output_type": "stream",
     "text": [
      "方程组有唯一解： [ 0.375       0.58333333 -0.625     ]\n"
     ]
    },
    {
     "name": "stderr",
     "output_type": "stream",
     "text": [
      "/tmp/ipykernel_2461/3977183546.py:7: LinAlgWarning: Ill-conditioned matrix (rcond=9.25186e-18): result may not be accurate.\n",
      "  x = scipy.linalg.solve(A, b)\n"
     ]
    }
   ],
   "source": [
    "# 使用示例\n",
    "solve_linear_system(A, b)"
   ]
  },
  {
   "cell_type": "markdown",
   "metadata": {},
   "source": [
    "# 求解含有不等式约束的线性方程组。"
   ]
  },
  {
   "cell_type": "code",
   "execution_count": 13,
   "metadata": {},
   "outputs": [],
   "source": [
    "import numpy as np\n",
    "from scipy.optimize import linprog\n",
    "\n",
    "def solve_linear_system(A, b, C, d):\n",
    "    \"\"\"\n",
    "    求解含有不等式约束的线性方程组。\n",
    "    \n",
    "    参数:\n",
    "    A (np.ndarray): 方程系数矩阵\n",
    "    b (np.ndarray): 方程常数向量\n",
    "    C (np.ndarray): 不等式系数矩阵\n",
    "    d (np.ndarray): 不等式常数向量\n",
    "    \n",
    "    返回:\n",
    "    tuple: (是否有解, 解的值) 其中“是否有解”为布尔值，解的值为数组（如果有解的话）\n",
    "    \"\"\"\n",
    "    # 目标函数系数，这里我们只是为了求解，所以设置为零\n",
    "    c = np.zeros(A.shape[1])\n",
    "    \n",
    "    # 求解线性规划问题\n",
    "    result = linprog(c, A_ub=C, b_ub=d, A_eq=A, b_eq=b, method='highs')\n",
    "    \n",
    "    if result.success:\n",
    "        return (True, result.x)\n",
    "    else:\n",
    "        return (False, None)\n"
   ]
  },
  {
   "cell_type": "code",
   "execution_count": 14,
   "metadata": {},
   "outputs": [
    {
     "name": "stdout",
     "output_type": "stream",
     "text": [
      "存在解，解为: [2. 1. 3.]\n"
     ]
    }
   ],
   "source": [
    "\n",
    "# 示例：维数为3的线性方程组和不等式约束\n",
    "\n",
    "# 方程系数矩阵 A (3x3)\n",
    "A = np.array([\n",
    "    [1, 1, 1],\n",
    "    [2, 1, 1],\n",
    "    [1, 2, 3]\n",
    "])\n",
    "\n",
    "# 方程常数向量 b\n",
    "b = np.array([6, 8, 13])\n",
    "\n",
    "# 不等式系数矩阵 C (2x3)\n",
    "C = np.array([\n",
    "    [-1, 0, 0],\n",
    "    [0, -1, -1]\n",
    "])\n",
    "\n",
    "# 不等式常数向量 d\n",
    "d = np.array([-2, -3])\n",
    "\n",
    "# 求解线性方程组\n",
    "has_solution, solution = solve_linear_system(A, b, C, d)\n",
    "\n",
    "if has_solution:\n",
    "    print(\"存在解，解为:\", solution)\n",
    "else:\n",
    "    print(\"没有解\")\n"
   ]
  },
  {
   "cell_type": "markdown",
   "metadata": {},
   "source": [
    "\n",
    "### 解释：\n",
    "\n",
    "1. **函数定义**：\n",
    "   - `solve_linear_system` 函数可以接受任意维数的矩阵和向量，只要它们的维度匹配。\n",
    "\n",
    "2. **示例**：\n",
    "   - **方程系数矩阵 `A`** 是一个 \\(3 \\times 3\\) 矩阵，表示有3个方程和3个变量。\n",
    "   - **方程常数向量 `b`** 是一个长度为3的向量。\n",
    "   - **不等式系数矩阵 `C`** 是一个 \\(2 \\times 3\\) 矩阵，表示有2个不等式约束和3个变量。\n",
    "   - **不等式常数向量 `d`** 是一个长度为2的向量。\n",
    "\n",
    "   - 在这个例子中，方程组为：\n",
    "     \\[\n",
    "     \\begin{cases}\n",
    "     x_1 + x_2 + x_3 = 6 \\\\\n",
    "     2x_1 + x_2 + x_3 = 8 \\\\\n",
    "     x_1 + 2x_2 + 3x_3 = 13\n",
    "     \\end{cases}\n",
    "     \\]\n",
    "     不等式约束为：\n",
    "     \\[\n",
    "     \\begin{cases}\n",
    "     x_1 \\leq 2 \\\\\n",
    "     x_2 + x_3 \\leq 3\n",
    "     \\end{cases}\n",
    "     \\]\n",
    "\n",
    "   - 调用 `solve_linear_system` 函数来求解这个方程组和约束，并输出结果。\n",
    "\n",
    "通过这种方式，你可以处理任意维数的线性方程组和不等式约束。"
   ]
  }
 ],
 "metadata": {
  "kernelspec": {
   "display_name": "Python 3",
   "language": "python",
   "name": "python3"
  },
  "language_info": {
   "codemirror_mode": {
    "name": "ipython",
    "version": 3
   },
   "file_extension": ".py",
   "mimetype": "text/x-python",
   "name": "python",
   "nbconvert_exporter": "python",
   "pygments_lexer": "ipython3",
   "version": "3.10.12"
  }
 },
 "nbformat": 4,
 "nbformat_minor": 2
}
